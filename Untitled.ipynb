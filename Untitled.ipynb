{
 "cells": [
  {
   "cell_type": "code",
   "execution_count": 1,
   "id": "9db448eb-2b20-4175-bb77-485ca77619a4",
   "metadata": {},
   "outputs": [],
   "source": [
    "%load_ext autoreload\n",
    "%autoreload 2"
   ]
  },
  {
   "cell_type": "code",
   "execution_count": 2,
   "id": "98d1cbbe-e6e4-421d-ac2b-9d8de10d42eb",
   "metadata": {},
   "outputs": [],
   "source": [
    "import numpy as np\n",
    "from matplotlib import pyplot as plt\n",
    "\n",
    "from functions import *\n",
    "from payoff import *\n",
    "from model import *\n",
    "from mc import *\n",
    "from cf import *\n",
    "from market import *"
   ]
  },
  {
   "cell_type": "code",
   "execution_count": 5,
   "id": "cceb0632-6778-4b9e-b173-7d1e432f9981",
   "metadata": {},
   "outputs": [
    {
     "data": {
      "image/png": "[encoded data removed]",
      "text/plain": [
       "<Figure size 432x288 with 1 Axes>"
      ]
     },
     "metadata": {
      "needs_background": "light"
     },
     "output_type": "display_data"
    }
   ],
   "source": [
    "strikes = np.arange(20, 200, 1)\n",
    "plt.plot(strikes, [bs_price(S0=100, K=strike, r=0.01, T=1, sigma=0.15) for strike in strikes])\n",
    "plt.xlabel(\"Strike\")\n",
    "plt.ylabel(\"Call price\")\n",
    "pass"
   ]
  },
  {
   "cell_type": "markdown",
   "id": "15054f38-5650-4c51-8d9a-9b5be8d2bcac",
   "metadata": {},
   "source": [
    "## Comparison BS / BS + Det"
   ]
  },
  {
   "cell_type": "code",
   "execution_count": 12,
   "id": "e3768038-f640-476a-9256-0fbcaf724f47",
   "metadata": {},
   "outputs": [
    {
     "name": "stdout",
     "output_type": "stream",
     "text": [
      "BS Price                                : 12.02173\n",
      "BS Model (15.0%), Deterministic         : 12.02425 +/- 0.00780\n",
      "BS Model (15.0%), Ho-Lee Model (0.0%)   : 12.81795 +/- 0.00802\n"
     ]
    }
   ],
   "source": [
    "S0 = 100\n",
    "K = 90\n",
    "sigma = 0.15\n",
    "T = 1\n",
    "r = 0.0\n",
    "scheme = np.linspace(0, T, 10)\n",
    "\n",
    "market = Market(S0=S0, r=r, vol=None)\n",
    "bs = BlackScholesModel(sigma=sigma)\n",
    "model1 = Model(bs)\n",
    "model2 = Model(bs, HoLeeModel(vol=0.0))\n",
    "print(f\"{'BS Price':<40}: {bs_price(S0, K, r, T, sigma):.5f}\")\n",
    "for model in [model1, model2]:\n",
    "    mc_result = mc_price(CallPayoff(K), model, market, paths=10**7, scheme=scheme, seed=5)\n",
    "    print(f\"{str(model):<40}: {mc_result}\")"
   ]
  },
  {
   "cell_type": "code",
   "execution_count": null,
   "id": "363cadc9-e806-430b-be21-9bc862492581",
   "metadata": {},
   "outputs": [],
   "source": [
    "bp = np.sqrt(252) / 10000\n",
    "model = Model(equity_model=BlackScholesModel(sigma=sigma), rate_model=HoLeeModel(5.0 * bp))\n",
    "mc_result = mc_price(CallPayoff(90), model, paths=10000, scheme=[0, 1])\n",
    "mc_result.mean(), mc_result.CI()"
   ]
  },
  {
   "cell_type": "code",
   "execution_count": null,
   "id": "fccd116a-139d-47e2-9338-4aa0896c134f",
   "metadata": {},
   "outputs": [],
   "source": [
    "def plot_mc(model: Model, payoff: CallPayoff, scheme: Scheme, cf: float):\n",
    "    paths = [10**i for i in range(3, 8)]\n",
    "    results = [mc_price(payoff=call(K), model=model, paths=path, scheme=scheme, seed=6) for path in paths]\n",
    "    plt.figure(figsize=(12,8))\n",
    "    plt.plot(paths, [r.mean() for r in results], \"r\", label=\"Mean\")\n",
    "    plt.plot(paths, [r.CI()[0] for r in results], \"r--\", label=\"5% CI\")\n",
    "    plt.plot(paths, [r.CI()[1] for r in results], \"r--\")\n",
    "    plt.gca().set_xscale('log')\n",
    "    plt.hlines(cf_price, xmin=min(paths), xmax=max(paths), label=\"BS Price\")\n",
    "    plt.legend()"
   ]
  },
  {
   "cell_type": "code",
   "execution_count": null,
   "id": "0bc679b7-90be-4d3f-b0be-c68a48667b4b",
   "metadata": {},
   "outputs": [],
   "source": [
    "sigma = 0.15\n",
    "payoff = CallPayoff(115)\n",
    "scheme = [0, 1]\n",
    "model = Model(BlackScholesModel(sigma=sigma))\n",
    "plot_mc(model, payoff, scheme, cf=bs_price(S0, K, r, T, sigma))"
   ]
  },
  {
   "cell_type": "code",
   "execution_count": null,
   "id": "1c0e3fd0-7843-4c2a-96b5-9b45747be48b",
   "metadata": {},
   "outputs": [],
   "source": [
    "model = Model(BlackScholesModel(sigma=0.15), HoLeeModel(vol=0.0))\n",
    "plot_mc(model=model, payoff=CallPayoff(115), cf=bs_price(S0, K, r, T, 0.15))"
   ]
  },
  {
   "cell_type": "code",
   "execution_count": null,
   "id": "f535c85b-49ea-40fd-8916-98aa23335d08",
   "metadata": {},
   "outputs": [],
   "source": [
    "rate_vol = 5 * bps\n",
    "sigma_vol = np.sqrt(sigma**2 - rate_vol**2 * T**2 / 3)\n",
    "#sigma_vol = 0.162\n",
    "print(f\"Forward vol: {sigma:.3%}, spot vol: {sigma_vol:.3%}\")\n",
    "model = Model(BlackScholesModel(sigma=sigma_vol), HoLeeModel(vol = rate_vol))\n",
    "plot_mc(model, K=110)"
   ]
  },
  {
   "cell_type": "code",
   "execution_count": null,
   "id": "369af00d-6ed5-4233-890a-eecb3b22b846",
   "metadata": {},
   "outputs": [],
   "source": []
  },
  {
   "cell_type": "code",
   "execution_count": null,
   "id": "a31babbd-fc8c-46dd-9a7c-cb1ccf84619d",
   "metadata": {},
   "outputs": [],
   "source": [
    "K = 110\n",
    "paths = [10**i for i in range(3, 8)]\n",
    "results = [mc_price_sto_rate(call(K), model, path, 1, seed=6) for path in paths]\n",
    "plt.figure(figsize=(12,8))\n",
    "plt.plot(paths, [r.mean() for r in results], \"r\", label=\"Mean\")\n",
    "plt.plot(paths, [r.CI()[0] for r in results], \"r--\", label=\"5% CI\")\n",
    "plt.plot(paths, [r.CI()[1] for r in results], \"r--\")\n",
    "plt.gca().set_xscale('log')\n",
    "\n",
    "cf_price = bs_price(S0, K, r, T, sigma)\n",
    "plt.hlines(cf_price, xmin=min(paths), xmax=max(paths), label=\"BS Price\")\n",
    "plt.legend()\n",
    "plt.title(model)\n",
    "pass"
   ]
  },
  {
   "cell_type": "code",
   "execution_count": null,
   "id": "a126bbed-c4a2-495e-b229-fc5285935436",
   "metadata": {},
   "outputs": [],
   "source": [
    "K = 110\n",
    "model = Model(BlackScholesModel(sigma=sigma))\n",
    "steps = np.arange(1, 100, 10)\n",
    "results = [mc_price(call(K), model, 10**6, N, seed=6) for N in steps]\n",
    "\n",
    "plt.figure(figsize=(12,8))\n",
    "plt.plot(steps, [r.mean() for r in results], \"r\", label=\"Mean\")\n",
    "plt.plot(paths, [r.CI()[0] for r in results], \"r--\", label=\"5% CI\")\n",
    "plt.plot(paths, [r.CI()[1] for r in results], \"r--\")\n",
    "\n",
    "cf_price = bs_price(S0, K, r, T, sigma)\n",
    "plt.hlines(cf_price, xmin=min(steps), xmax=max(steps), label=\"BS Price\")\n",
    "plt.legend()\n",
    "pass"
   ]
  },
  {
   "cell_type": "code",
   "execution_count": null,
   "id": "4de093f4-80b6-441b-94ad-ccc970cfa08a",
   "metadata": {},
   "outputs": [],
   "source": []
  }
 ],
 "metadata": {
  "kernelspec": {
   "display_name": "Python 3",
   "language": "python",
   "name": "python3"
  },
  "language_info": {
   "codemirror_mode": {
    "name": "ipython",
    "version": 3
   },
   "file_extension": ".py",
   "mimetype": "text/x-python",
   "name": "python",
   "nbconvert_exporter": "python",
   "pygments_lexer": "ipython3",
   "version": "3.9.5"
  }
 },
 "nbformat": 4,
 "nbformat_minor": 5
}
