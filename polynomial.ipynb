{
 "cells": [
  {
   "cell_type": "code",
   "execution_count": 3,
   "id": "ed44bc3c-3606-4c4b-889c-fbfd40e3d357",
   "metadata": {},
   "outputs": [],
   "source": [
    "import numpy as np\n",
    "from numpy.polynomial.polynomial import Polynomial\n",
    "\n",
    "from matplotlib import pyplot as plt"
   ]
  },
  {
   "cell_type": "code",
   "execution_count": 29,
   "id": "638c6e8c-cc38-44ca-889c-ffb57c0bd1ea",
   "metadata": {},
   "outputs": [
    {
     "data": {
      "text/latex": [
       "$x \\mapsto \\text{1.0}\\color{LightGray}{ + \\text{0.0}\\,x} + \\text{4.0}\\,x^{2} + \\text{4.0}\\,x^{3}$"
      ],
      "text/plain": [
       "Polynomial([1., 0., 4., 4.], domain=[-1,  1], window=[-1,  1])"
      ]
     },
     "execution_count": 29,
     "metadata": {},
     "output_type": "execute_result"
    }
   ],
   "source": [
    "c = Polynomial([1,0,4, 4])\n",
    "c"
   ]
  },
  {
   "cell_type": "code",
   "execution_count": 30,
   "id": "f9f89bd8-8b20-4869-bc1b-5641b7b011a2",
   "metadata": {},
   "outputs": [
    {
     "data": {
      "text/latex": [
       "$x \\mapsto \\text{1.0}\\color{LightGray}{ + \\text{0.0}\\,x} + \\text{8.0}\\,x^{2} + \\text{8.0}\\,x^{3} + \\text{16.0}\\,x^{4} + \\text{32.0}\\,x^{5} + \\text{16.0}\\,x^{6}$"
      ],
      "text/plain": [
       "Polynomial([ 1.,  0.,  8.,  8., 16., 32., 16.], domain=[-1.,  1.], window=[-1.,  1.])"
      ]
     },
     "execution_count": 30,
     "metadata": {},
     "output_type": "execute_result"
    }
   ],
   "source": [
    "c ** 2"
   ]
  },
  {
   "cell_type": "code",
   "execution_count": null,
   "id": "e9522245-30c1-4a93-98e4-85bdc5633c94",
   "metadata": {},
   "outputs": [],
   "source": []
  }
 ],
 "metadata": {
  "kernelspec": {
   "display_name": "Python 3",
   "language": "python",
   "name": "python3"
  },
  "language_info": {
   "codemirror_mode": {
    "name": "ipython",
    "version": 3
   },
   "file_extension": ".py",
   "mimetype": "text/x-python",
   "name": "python",
   "nbconvert_exporter": "python",
   "pygments_lexer": "ipython3",
   "version": "3.9.5"
  }
 },
 "nbformat": 4,
 "nbformat_minor": 5
}
