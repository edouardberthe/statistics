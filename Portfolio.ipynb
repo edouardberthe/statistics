{
 "cells": [
  {
   "cell_type": "code",
   "execution_count": 11,
   "metadata": {},
   "outputs": [],
   "source": [
    "import sys, os\n",
    "import numpy as np\n",
    "import pandas as pd\n",
    "import pandas_datareader as pdr\n",
    "import statsmodels.api as sm\n",
    "from scipy import stats\n",
    "import scipy.stats.distributions as dist\n",
    "\n",
    "from matplotlib import pyplot as plt\n",
    "import matplotlib as mpl\n",
    "#mpl.style.use(\"dark_background\")"
   ]
  },
  {
   "cell_type": "code",
   "execution_count": 12,
   "metadata": {},
   "outputs": [],
   "source": [
    "def load(ticker: str, cache=True):\n",
    "    import os\n",
    "    filename = f\"{ticker}.csv\"\n",
    "    if cache and os.path.isfile(filename):\n",
    "        df = pd.read_csv(filename)\n",
    "        df.reset_index(\"date\")\n",
    "        return df\n",
    "    else:\n",
    "        df = pdr.get_data_tiingo(ticker, api_key=\"a1955b6b5ab1cd5bce14053378f1f9358f1e65cb\")\n",
    "        df = df.loc[ticker]\n",
    "        df.reset_index(\"date\")\n",
    "        df.to_csv(filename)\n",
    "        return df"
   ]
  },
  {
   "cell_type": "code",
   "execution_count": 13,
   "metadata": {},
   "outputs": [
    {
     "data": {
      "text/html": [
       "<div>\n",
       "<style scoped>\n",
       "    .dataframe tbody tr th:only-of-type {\n",
       "        vertical-align: middle;\n",
       "    }\n",
       "\n",
       "    .dataframe tbody tr th {\n",
       "        vertical-align: top;\n",
       "    }\n",
       "\n",
       "    .dataframe thead th {\n",
       "        text-align: right;\n",
       "    }\n",
       "</style>\n",
       "<table border=\"1\" class=\"dataframe\">\n",
       "  <thead>\n",
       "    <tr style=\"text-align: right;\">\n",
       "      <th></th>\n",
       "      <th>close</th>\n",
       "      <th>high</th>\n",
       "      <th>low</th>\n",
       "      <th>open</th>\n",
       "      <th>volume</th>\n",
       "      <th>adjClose</th>\n",
       "      <th>adjHigh</th>\n",
       "      <th>adjLow</th>\n",
       "      <th>adjOpen</th>\n",
       "      <th>adjVolume</th>\n",
       "      <th>divCash</th>\n",
       "      <th>splitFactor</th>\n",
       "    </tr>\n",
       "    <tr>\n",
       "      <th>date</th>\n",
       "      <th></th>\n",
       "      <th></th>\n",
       "      <th></th>\n",
       "      <th></th>\n",
       "      <th></th>\n",
       "      <th></th>\n",
       "      <th></th>\n",
       "      <th></th>\n",
       "      <th></th>\n",
       "      <th></th>\n",
       "      <th></th>\n",
       "      <th></th>\n",
       "    </tr>\n",
       "  </thead>\n",
       "  <tbody>\n",
       "    <tr>\n",
       "      <th>2015-06-17 00:00:00+00:00</th>\n",
       "      <td>529.26</td>\n",
       "      <td>530.980</td>\n",
       "      <td>525.10</td>\n",
       "      <td>529.37</td>\n",
       "      <td>1294216</td>\n",
       "      <td>529.26</td>\n",
       "      <td>530.980</td>\n",
       "      <td>525.10</td>\n",
       "      <td>529.37</td>\n",
       "      <td>1294216</td>\n",
       "      <td>0.0</td>\n",
       "      <td>1.0</td>\n",
       "    </tr>\n",
       "    <tr>\n",
       "      <th>2015-06-18 00:00:00+00:00</th>\n",
       "      <td>536.73</td>\n",
       "      <td>538.150</td>\n",
       "      <td>530.79</td>\n",
       "      <td>531.00</td>\n",
       "      <td>1833109</td>\n",
       "      <td>536.73</td>\n",
       "      <td>538.150</td>\n",
       "      <td>530.79</td>\n",
       "      <td>531.00</td>\n",
       "      <td>1833109</td>\n",
       "      <td>0.0</td>\n",
       "      <td>1.0</td>\n",
       "    </tr>\n",
       "    <tr>\n",
       "      <th>2015-06-19 00:00:00+00:00</th>\n",
       "      <td>536.69</td>\n",
       "      <td>538.250</td>\n",
       "      <td>533.01</td>\n",
       "      <td>537.21</td>\n",
       "      <td>1893497</td>\n",
       "      <td>536.69</td>\n",
       "      <td>538.250</td>\n",
       "      <td>533.01</td>\n",
       "      <td>537.21</td>\n",
       "      <td>1893497</td>\n",
       "      <td>0.0</td>\n",
       "      <td>1.0</td>\n",
       "    </tr>\n",
       "    <tr>\n",
       "      <th>2015-06-22 00:00:00+00:00</th>\n",
       "      <td>538.19</td>\n",
       "      <td>543.740</td>\n",
       "      <td>537.53</td>\n",
       "      <td>539.59</td>\n",
       "      <td>1250282</td>\n",
       "      <td>538.19</td>\n",
       "      <td>543.740</td>\n",
       "      <td>537.53</td>\n",
       "      <td>539.59</td>\n",
       "      <td>1250282</td>\n",
       "      <td>0.0</td>\n",
       "      <td>1.0</td>\n",
       "    </tr>\n",
       "    <tr>\n",
       "      <th>2015-06-23 00:00:00+00:00</th>\n",
       "      <td>540.48</td>\n",
       "      <td>541.499</td>\n",
       "      <td>535.25</td>\n",
       "      <td>539.64</td>\n",
       "      <td>1197450</td>\n",
       "      <td>540.48</td>\n",
       "      <td>541.499</td>\n",
       "      <td>535.25</td>\n",
       "      <td>539.64</td>\n",
       "      <td>1197450</td>\n",
       "      <td>0.0</td>\n",
       "      <td>1.0</td>\n",
       "    </tr>\n",
       "    <tr>\n",
       "      <th>...</th>\n",
       "      <td>...</td>\n",
       "      <td>...</td>\n",
       "      <td>...</td>\n",
       "      <td>...</td>\n",
       "      <td>...</td>\n",
       "      <td>...</td>\n",
       "      <td>...</td>\n",
       "      <td>...</td>\n",
       "      <td>...</td>\n",
       "      <td>...</td>\n",
       "      <td>...</td>\n",
       "      <td>...</td>\n",
       "    </tr>\n",
       "    <tr>\n",
       "      <th>2020-06-09 00:00:00+00:00</th>\n",
       "      <td>1456.16</td>\n",
       "      <td>1468.000</td>\n",
       "      <td>1443.21</td>\n",
       "      <td>1445.36</td>\n",
       "      <td>1409249</td>\n",
       "      <td>1456.16</td>\n",
       "      <td>1468.000</td>\n",
       "      <td>1443.21</td>\n",
       "      <td>1445.36</td>\n",
       "      <td>1409249</td>\n",
       "      <td>0.0</td>\n",
       "      <td>1.0</td>\n",
       "    </tr>\n",
       "    <tr>\n",
       "      <th>2020-06-10 00:00:00+00:00</th>\n",
       "      <td>1465.85</td>\n",
       "      <td>1474.260</td>\n",
       "      <td>1456.27</td>\n",
       "      <td>1459.54</td>\n",
       "      <td>1525153</td>\n",
       "      <td>1465.85</td>\n",
       "      <td>1474.260</td>\n",
       "      <td>1456.27</td>\n",
       "      <td>1459.54</td>\n",
       "      <td>1525153</td>\n",
       "      <td>0.0</td>\n",
       "      <td>1.0</td>\n",
       "    </tr>\n",
       "    <tr>\n",
       "      <th>2020-06-11 00:00:00+00:00</th>\n",
       "      <td>1403.84</td>\n",
       "      <td>1454.470</td>\n",
       "      <td>1402.00</td>\n",
       "      <td>1442.48</td>\n",
       "      <td>1991332</td>\n",
       "      <td>1403.84</td>\n",
       "      <td>1454.470</td>\n",
       "      <td>1402.00</td>\n",
       "      <td>1442.48</td>\n",
       "      <td>1991332</td>\n",
       "      <td>0.0</td>\n",
       "      <td>1.0</td>\n",
       "    </tr>\n",
       "    <tr>\n",
       "      <th>2020-06-12 00:00:00+00:00</th>\n",
       "      <td>1413.18</td>\n",
       "      <td>1437.000</td>\n",
       "      <td>1386.02</td>\n",
       "      <td>1428.49</td>\n",
       "      <td>1946367</td>\n",
       "      <td>1413.18</td>\n",
       "      <td>1437.000</td>\n",
       "      <td>1386.02</td>\n",
       "      <td>1428.49</td>\n",
       "      <td>1946367</td>\n",
       "      <td>0.0</td>\n",
       "      <td>1.0</td>\n",
       "    </tr>\n",
       "    <tr>\n",
       "      <th>2020-06-15 00:00:00+00:00</th>\n",
       "      <td>1419.85</td>\n",
       "      <td>1424.800</td>\n",
       "      <td>1387.92</td>\n",
       "      <td>1390.80</td>\n",
       "      <td>1435337</td>\n",
       "      <td>1419.85</td>\n",
       "      <td>1424.800</td>\n",
       "      <td>1387.92</td>\n",
       "      <td>1390.80</td>\n",
       "      <td>1435337</td>\n",
       "      <td>0.0</td>\n",
       "      <td>1.0</td>\n",
       "    </tr>\n",
       "  </tbody>\n",
       "</table>\n",
       "<p>1258 rows × 12 columns</p>\n",
       "</div>"
      ],
      "text/plain": [
       "                             close      high      low     open   volume  \\\n",
       "date                                                                      \n",
       "2015-06-17 00:00:00+00:00   529.26   530.980   525.10   529.37  1294216   \n",
       "2015-06-18 00:00:00+00:00   536.73   538.150   530.79   531.00  1833109   \n",
       "2015-06-19 00:00:00+00:00   536.69   538.250   533.01   537.21  1893497   \n",
       "2015-06-22 00:00:00+00:00   538.19   543.740   537.53   539.59  1250282   \n",
       "2015-06-23 00:00:00+00:00   540.48   541.499   535.25   539.64  1197450   \n",
       "...                            ...       ...      ...      ...      ...   \n",
       "2020-06-09 00:00:00+00:00  1456.16  1468.000  1443.21  1445.36  1409249   \n",
       "2020-06-10 00:00:00+00:00  1465.85  1474.260  1456.27  1459.54  1525153   \n",
       "2020-06-11 00:00:00+00:00  1403.84  1454.470  1402.00  1442.48  1991332   \n",
       "2020-06-12 00:00:00+00:00  1413.18  1437.000  1386.02  1428.49  1946367   \n",
       "2020-06-15 00:00:00+00:00  1419.85  1424.800  1387.92  1390.80  1435337   \n",
       "\n",
       "                           adjClose   adjHigh   adjLow  adjOpen  adjVolume  \\\n",
       "date                                                                         \n",
       "2015-06-17 00:00:00+00:00    529.26   530.980   525.10   529.37    1294216   \n",
       "2015-06-18 00:00:00+00:00    536.73   538.150   530.79   531.00    1833109   \n",
       "2015-06-19 00:00:00+00:00    536.69   538.250   533.01   537.21    1893497   \n",
       "2015-06-22 00:00:00+00:00    538.19   543.740   537.53   539.59    1250282   \n",
       "2015-06-23 00:00:00+00:00    540.48   541.499   535.25   539.64    1197450   \n",
       "...                             ...       ...      ...      ...        ...   \n",
       "2020-06-09 00:00:00+00:00   1456.16  1468.000  1443.21  1445.36    1409249   \n",
       "2020-06-10 00:00:00+00:00   1465.85  1474.260  1456.27  1459.54    1525153   \n",
       "2020-06-11 00:00:00+00:00   1403.84  1454.470  1402.00  1442.48    1991332   \n",
       "2020-06-12 00:00:00+00:00   1413.18  1437.000  1386.02  1428.49    1946367   \n",
       "2020-06-15 00:00:00+00:00   1419.85  1424.800  1387.92  1390.80    1435337   \n",
       "\n",
       "                           divCash  splitFactor  \n",
       "date                                             \n",
       "2015-06-17 00:00:00+00:00      0.0          1.0  \n",
       "2015-06-18 00:00:00+00:00      0.0          1.0  \n",
       "2015-06-19 00:00:00+00:00      0.0          1.0  \n",
       "2015-06-22 00:00:00+00:00      0.0          1.0  \n",
       "2015-06-23 00:00:00+00:00      0.0          1.0  \n",
       "...                            ...          ...  \n",
       "2020-06-09 00:00:00+00:00      0.0          1.0  \n",
       "2020-06-10 00:00:00+00:00      0.0          1.0  \n",
       "2020-06-11 00:00:00+00:00      0.0          1.0  \n",
       "2020-06-12 00:00:00+00:00      0.0          1.0  \n",
       "2020-06-15 00:00:00+00:00      0.0          1.0  \n",
       "\n",
       "[1258 rows x 12 columns]"
      ]
     },
     "execution_count": 13,
     "metadata": {},
     "output_type": "execute_result"
    }
   ],
   "source": [
    "df = load(\"GOOG\", cache=False)\n",
    "df"
   ]
  },
  {
   "cell_type": "code",
   "execution_count": 14,
   "metadata": {},
   "outputs": [
    {
     "data": {
      "application/vnd.jupyter.widget-view+json": {
       "model_id": "b19e131016ea4bb9b36668b8ac831fda",
       "version_major": 2,
       "version_minor": 0
      },
      "text/plain": [
       "Canvas(toolbar=Toolbar(toolitems=[('Home', 'Reset original view', 'home', 'home'), ('Back', 'Back to previous …"
      ]
     },
     "metadata": {},
     "output_type": "display_data"
    },
    {
     "data": {
      "text/plain": [
       "<matplotlib.axes._subplots.AxesSubplot at 0x125e1c090>"
      ]
     },
     "execution_count": 14,
     "metadata": {},
     "output_type": "execute_result"
    }
   ],
   "source": [
    "%matplotlib widget\n",
    "closes = df[\"close\"]\n",
    "closes.plot(figsize=(12,8))"
   ]
  },
  {
   "cell_type": "code",
   "execution_count": 15,
   "metadata": {},
   "outputs": [
    {
     "name": "stdout",
     "output_type": "stream",
     "text": [
      "Mean 0.078507%, std 1.71%, skewness 0.3043123344680597, excess kurtosis 10.469479201001892\n"
     ]
    }
   ],
   "source": [
    "# returns = closes.pct_change()[1:]\n",
    "returns = np.log(closes).diff()[1:]\n",
    "print(f\"Mean {returns.mean():%}, std {returns.std():.2%}, skewness {returns.skew()}, excess kurtosis {returns.kurtosis()}\")"
   ]
  },
  {
   "cell_type": "code",
   "execution_count": 16,
   "metadata": {},
   "outputs": [
    {
     "data": {
      "application/vnd.jupyter.widget-view+json": {
       "model_id": "098583a763f44c3e9081ac6148835b53",
       "version_major": 2,
       "version_minor": 0
      },
      "text/plain": [
       "Canvas(toolbar=Toolbar(toolitems=[('Home', 'Reset original view', 'home', 'home'), ('Back', 'Back to previous …"
      ]
     },
     "metadata": {},
     "output_type": "display_data"
    },
    {
     "data": {
      "text/plain": [
       "<matplotlib.legend.Legend at 0x125e4d350>"
      ]
     },
     "execution_count": 16,
     "metadata": {},
     "output_type": "execute_result"
    }
   ],
   "source": [
    "%matplotlib widget\n",
    "ax = returns.hist(bins=70, density=True, label=\"Histogram\")\n",
    "approx_norm = dist.norm(loc=returns.mean(), scale=returns.std())\n",
    "x = np.linspace(returns.min(), returns.max(), 1000)\n",
    "ax.plot(x, approx_norm.pdf(x), label=\"Approx. Gaussian\")\n",
    "ax.legend()"
   ]
  },
  {
   "cell_type": "code",
   "execution_count": 17,
   "metadata": {},
   "outputs": [
    {
     "data": {
      "application/vnd.jupyter.widget-view+json": {
       "model_id": "21a7259cd911460d961d3be05cdd5871",
       "version_major": 2,
       "version_minor": 0
      },
      "text/plain": [
       "Canvas(toolbar=Toolbar(toolitems=[('Home', 'Reset original view', 'home', 'home'), ('Back', 'Back to previous …"
      ]
     },
     "metadata": {},
     "output_type": "display_data"
    }
   ],
   "source": [
    "sm.qqplot(returns, fit=True, line=\"45\")\n",
    "pass"
   ]
  },
  {
   "cell_type": "code",
   "execution_count": 18,
   "metadata": {},
   "outputs": [
    {
     "name": "stdout",
     "output_type": "stream",
     "text": [
      "p-value p = 0.013\n",
      "Null hypothesis cannot be rejected.: returns may be Gaussian\n"
     ]
    }
   ],
   "source": [
    "k2, p = stats.normaltest(np.random.gamma(3, size=100))\n",
    "print(f\"p-value p = {p:.2}\")\n",
    "alpha = 0.001\n",
    "if p < alpha:\n",
    "    print(\"Null hypothesis can be rejected: returns are not Gaussian\")\n",
    "else:\n",
    "    print(\"Null hypothesis cannot be rejected.: returns may be Gaussian\")"
   ]
  },
  {
   "cell_type": "code",
   "execution_count": 19,
   "metadata": {},
   "outputs": [
    {
     "data": {
      "application/vnd.jupyter.widget-view+json": {
       "model_id": "30faadfb275545a9a341d020ffabb187",
       "version_major": 2,
       "version_minor": 0
      },
      "text/plain": [
       "Canvas(toolbar=Toolbar(toolitems=[('Home', 'Reset original view', 'home', 'home'), ('Back', 'Back to previous …"
      ]
     },
     "metadata": {},
     "output_type": "display_data"
    }
   ],
   "source": [
    "%matplotlib widget\n",
    "window = 300\n",
    "series = returns.rolling(window).kurt()[window-1:]\n",
    "plt.plot(series.index, series, label=f\"{window}D-rolling excess Kurtosis\")\n",
    "plt.plot(returns.rolling(window).skew()[window-1:], label=f\"{window}D-rolling Skewness\")\n",
    "plt.legend()\n",
    "plt.show()"
   ]
  },
  {
   "cell_type": "markdown",
   "metadata": {},
   "source": [
    "# Statistical analysis"
   ]
  },
  {
   "cell_type": "code",
   "execution_count": 26,
   "metadata": {},
   "outputs": [],
   "source": [
    "from statsmodels.graphics.tsaplots import plot_acf, plot_pacf, "
   ]
  },
  {
   "cell_type": "code",
   "execution_count": 32,
   "metadata": {},
   "outputs": [
    {
     "name": "stderr",
     "output_type": "stream",
     "text": [
      "/Users/edouard/.virtualenvs/stats/lib/python3.7/site-packages/statsmodels/graphics/utils.py:55: RuntimeWarning: More than 20 figures have been opened. Figures created through the pyplot interface (`matplotlib.pyplot.figure`) are retained until explicitly closed and may consume too much memory. (To control this warning, see the rcParam `figure.max_open_warning`).\n",
      "  fig = plt.figure()\n"
     ]
    },
    {
     "data": {
      "application/vnd.jupyter.widget-view+json": {
       "model_id": "971e42e90697447eaad60e4e0be0ce82",
       "version_major": 2,
       "version_minor": 0
      },
      "text/plain": [
       "Canvas(toolbar=Toolbar(toolitems=[('Home', 'Reset original view', 'home', 'home'), ('Back', 'Back to previous …"
      ]
     },
     "metadata": {},
     "output_type": "display_data"
    },
    {
     "name": "stderr",
     "output_type": "stream",
     "text": [
      "/Users/edouard/.virtualenvs/stats/lib/python3.7/site-packages/statsmodels/graphics/utils.py:55: RuntimeWarning: More than 20 figures have been opened. Figures created through the pyplot interface (`matplotlib.pyplot.figure`) are retained until explicitly closed and may consume too much memory. (To control this warning, see the rcParam `figure.max_open_warning`).\n",
      "  fig = plt.figure()\n"
     ]
    },
    {
     "data": {
      "application/vnd.jupyter.widget-view+json": {
       "model_id": "410670c9faab4c39a73acdcc93c78718",
       "version_major": 2,
       "version_minor": 0
      },
      "text/plain": [
       "Canvas(toolbar=Toolbar(toolitems=[('Home', 'Reset original view', 'home', 'home'), ('Back', 'Back to previous …"
      ]
     },
     "metadata": {},
     "output_type": "display_data"
    }
   ],
   "source": [
    "plot_acf(returns)\n",
    "plot_pacf(returns)\n",
    "pass"
   ]
  },
  {
   "cell_type": "code",
   "execution_count": 54,
   "metadata": {},
   "outputs": [],
   "source": [
    "from arch import arch_model\n",
    "from sklearn.preprocessing import StandardScaler"
   ]
  },
  {
   "cell_type": "markdown",
   "metadata": {},
   "source": [
    "### Train - test split"
   ]
  },
  {
   "cell_type": "code",
   "execution_count": 44,
   "metadata": {},
   "outputs": [],
   "source": [
    "train_test_split = 0.80\n",
    "train_split = int(len(returns) * 0.80)\n",
    "train, test = returns[:train_split], returns[train_split:]"
   ]
  },
  {
   "cell_type": "markdown",
   "metadata": {},
   "source": [
    "### Scaling"
   ]
  },
  {
   "cell_type": "code",
   "execution_count": 68,
   "metadata": {},
   "outputs": [],
   "source": [
    "scaler = StandardScaler()\n",
    "train_scaled = scaler.fit_transform(train.values.reshape(-1,1))"
   ]
  },
  {
   "cell_type": "code",
   "execution_count": 90,
   "metadata": {},
   "outputs": [
    {
     "data": {
      "text/plain": [
       "2746.341893644617"
      ]
     },
     "execution_count": 90,
     "metadata": {},
     "output_type": "execute_result"
    }
   ],
   "source": [
    "res.aic"
   ]
  },
  {
   "cell_type": "code",
   "execution_count": 106,
   "metadata": {},
   "outputs": [],
   "source": [
    "import sys\n",
    "\n",
    "import matplotlib.pyplot as plt\n",
    "from mpl_toolkits.mplot3d import Axes3D"
   ]
  },
  {
   "cell_type": "code",
   "execution_count": 141,
   "metadata": {},
   "outputs": [
    {
     "name": "stdout",
     "output_type": "stream",
     "text": [
      "o = 1\n"
     ]
    },
    {
     "name": "stderr",
     "output_type": "stream",
     "text": [
      "/Users/edouard/.virtualenvs/stats/lib/python3.7/site-packages/ipykernel_launcher.py:17: RuntimeWarning: More than 20 figures have been opened. Figures created through the pyplot interface (`matplotlib.pyplot.figure`) are retained until explicitly closed and may consume too much memory. (To control this warning, see the rcParam `figure.max_open_warning`).\n"
     ]
    },
    {
     "data": {
      "application/vnd.jupyter.widget-view+json": {
       "model_id": "aba302cb1214458fb41961d7dfdac22b",
       "version_major": 2,
       "version_minor": 0
      },
      "text/plain": [
       "Canvas(toolbar=Toolbar(toolitems=[('Home', 'Reset original view', 'home', 'home'), ('Back', 'Back to previous …"
      ]
     },
     "metadata": {},
     "output_type": "display_data"
    },
    {
     "name": "stdout",
     "output_type": "stream",
     "text": [
      "Best (p, q) = (4, 11), AIC = 2700.4927262261276\n",
      "o = 2\n"
     ]
    },
    {
     "name": "stderr",
     "output_type": "stream",
     "text": [
      "/Users/edouard/.virtualenvs/stats/lib/python3.7/site-packages/ipykernel_launcher.py:17: RuntimeWarning: More than 20 figures have been opened. Figures created through the pyplot interface (`matplotlib.pyplot.figure`) are retained until explicitly closed and may consume too much memory. (To control this warning, see the rcParam `figure.max_open_warning`).\n"
     ]
    },
    {
     "data": {
      "application/vnd.jupyter.widget-view+json": {
       "model_id": "2d0d3c30f954410e8b1e7251e22dc5a1",
       "version_major": 2,
       "version_minor": 0
      },
      "text/plain": [
       "Canvas(toolbar=Toolbar(toolitems=[('Home', 'Reset original view', 'home', 'home'), ('Back', 'Back to previous …"
      ]
     },
     "metadata": {},
     "output_type": "display_data"
    },
    {
     "name": "stdout",
     "output_type": "stream",
     "text": [
      "Best (p, q) = (4, 11), AIC = 2694.208600171406\n",
      "o = 3\n"
     ]
    },
    {
     "name": "stderr",
     "output_type": "stream",
     "text": [
      "/Users/edouard/.virtualenvs/stats/lib/python3.7/site-packages/ipykernel_launcher.py:17: RuntimeWarning: More than 20 figures have been opened. Figures created through the pyplot interface (`matplotlib.pyplot.figure`) are retained until explicitly closed and may consume too much memory. (To control this warning, see the rcParam `figure.max_open_warning`).\n"
     ]
    },
    {
     "data": {
      "application/vnd.jupyter.widget-view+json": {
       "model_id": "b0604e55f8de495f9e8b8b9bed57e42e",
       "version_major": 2,
       "version_minor": 0
      },
      "text/plain": [
       "Canvas(toolbar=Toolbar(toolitems=[('Home', 'Reset original view', 'home', 'home'), ('Back', 'Back to previous …"
      ]
     },
     "metadata": {},
     "output_type": "display_data"
    },
    {
     "name": "stdout",
     "output_type": "stream",
     "text": [
      "Best (p, q) = (4, 11), AIC = 2689.9232587266465\n",
      "o = 4\n"
     ]
    },
    {
     "name": "stderr",
     "output_type": "stream",
     "text": [
      "/Users/edouard/.virtualenvs/stats/lib/python3.7/site-packages/ipykernel_launcher.py:17: RuntimeWarning: More than 20 figures have been opened. Figures created through the pyplot interface (`matplotlib.pyplot.figure`) are retained until explicitly closed and may consume too much memory. (To control this warning, see the rcParam `figure.max_open_warning`).\n"
     ]
    },
    {
     "data": {
      "application/vnd.jupyter.widget-view+json": {
       "model_id": "6a084bed9b0546f095aaa5dd716dd5e4",
       "version_major": 2,
       "version_minor": 0
      },
      "text/plain": [
       "Canvas(toolbar=Toolbar(toolitems=[('Home', 'Reset original view', 'home', 'home'), ('Back', 'Back to previous …"
      ]
     },
     "metadata": {},
     "output_type": "display_data"
    },
    {
     "name": "stdout",
     "output_type": "stream",
     "text": [
      "Best (p, q) = (4, 11), AIC = 2691.7527752654064\n",
      "o = 5\n"
     ]
    },
    {
     "name": "stderr",
     "output_type": "stream",
     "text": [
      "/Users/edouard/.virtualenvs/stats/lib/python3.7/site-packages/ipykernel_launcher.py:17: RuntimeWarning: More than 20 figures have been opened. Figures created through the pyplot interface (`matplotlib.pyplot.figure`) are retained until explicitly closed and may consume too much memory. (To control this warning, see the rcParam `figure.max_open_warning`).\n"
     ]
    },
    {
     "data": {
      "application/vnd.jupyter.widget-view+json": {
       "model_id": "ecfc6165b4a448e5b235b77908553ac1",
       "version_major": 2,
       "version_minor": 0
      },
      "text/plain": [
       "Canvas(toolbar=Toolbar(toolitems=[('Home', 'Reset original view', 'home', 'home'), ('Back', 'Back to previous …"
      ]
     },
     "metadata": {},
     "output_type": "display_data"
    },
    {
     "name": "stdout",
     "output_type": "stream",
     "text": [
      "Best (p, q) = (4, 11), AIC = 2693.752776110158\n"
     ]
    }
   ],
   "source": [
    "range_o = list(range(1, 6))\n",
    "range_p = list(range(1, 10))\n",
    "range_q = list(range(1, 17))\n",
    "for o in range_o:\n",
    "    print(f\"o = {o}\")\n",
    "    best_aic, best_model = sys.maxsize, None\n",
    "    aic = np.zeros(shape=(len(range_p), len(range_q)))\n",
    "    for i, p in enumerate(range_p):\n",
    "        for j, q in enumerate(range_q):\n",
    "            model = arch_model(train_scaled, vol=\"GARCH\", p=p, o=o, q=q)\n",
    "            res = model.fit(disp=\"off\")\n",
    "            aic[i, j] = res.aic\n",
    "            if res.aic < best_aic:\n",
    "                best_aic, best_model = res.aic, (p,q)\n",
    "    \n",
    "    X, Y = np.meshgrid(range_p, range_q)\n",
    "    ax = Axes3D(fig=plt.figure())\n",
    "    ax.plot_surface(X, Y, aic.T)\n",
    "    ax.set_title(f\"o = {o}\")\n",
    "    plt.show()\n",
    "    print(f\"Best (p, q) = {best_model}, AIC = {best_aic}\")"
   ]
  },
  {
   "cell_type": "markdown",
   "metadata": {},
   "source": [
    "### Fitting"
   ]
  },
  {
   "cell_type": "code",
   "execution_count": 130,
   "metadata": {},
   "outputs": [],
   "source": [
    "p, o, q = 4, 1, 11\n",
    "model = arch_model(train_scaled, p=p, o=o, q=q)\n",
    "res = model.fit(disp=\"off\")\n",
    "pass"
   ]
  },
  {
   "cell_type": "markdown",
   "metadata": {},
   "source": [
    "### Prediction"
   ]
  },
  {
   "cell_type": "code",
   "execution_count": 131,
   "metadata": {},
   "outputs": [],
   "source": [
    "test_scaled = scaler.transform(test.values.reshape(-1,1))\n",
    "predict = res.forecast(horizon=len(test_scaled))"
   ]
  },
  {
   "cell_type": "code",
   "execution_count": 140,
   "metadata": {},
   "outputs": [
    {
     "data": {
      "text/html": [
       "<div>\n",
       "<style scoped>\n",
       "    .dataframe tbody tr th:only-of-type {\n",
       "        vertical-align: middle;\n",
       "    }\n",
       "\n",
       "    .dataframe tbody tr th {\n",
       "        vertical-align: top;\n",
       "    }\n",
       "\n",
       "    .dataframe thead th {\n",
       "        text-align: right;\n",
       "    }\n",
       "</style>\n",
       "<table border=\"1\" class=\"dataframe\">\n",
       "  <thead>\n",
       "    <tr style=\"text-align: right;\">\n",
       "      <th></th>\n",
       "      <th>h.001</th>\n",
       "      <th>h.002</th>\n",
       "      <th>h.003</th>\n",
       "      <th>h.004</th>\n",
       "      <th>h.005</th>\n",
       "      <th>h.006</th>\n",
       "      <th>h.007</th>\n",
       "      <th>h.008</th>\n",
       "      <th>h.009</th>\n",
       "      <th>h.010</th>\n",
       "      <th>...</th>\n",
       "      <th>h.243</th>\n",
       "      <th>h.244</th>\n",
       "      <th>h.245</th>\n",
       "      <th>h.246</th>\n",
       "      <th>h.247</th>\n",
       "      <th>h.248</th>\n",
       "      <th>h.249</th>\n",
       "      <th>h.250</th>\n",
       "      <th>h.251</th>\n",
       "      <th>h.252</th>\n",
       "    </tr>\n",
       "  </thead>\n",
       "  <tbody>\n",
       "    <tr>\n",
       "      <th>0</th>\n",
       "      <td>NaN</td>\n",
       "      <td>NaN</td>\n",
       "      <td>NaN</td>\n",
       "      <td>NaN</td>\n",
       "      <td>NaN</td>\n",
       "      <td>NaN</td>\n",
       "      <td>NaN</td>\n",
       "      <td>NaN</td>\n",
       "      <td>NaN</td>\n",
       "      <td>NaN</td>\n",
       "      <td>...</td>\n",
       "      <td>NaN</td>\n",
       "      <td>NaN</td>\n",
       "      <td>NaN</td>\n",
       "      <td>NaN</td>\n",
       "      <td>NaN</td>\n",
       "      <td>NaN</td>\n",
       "      <td>NaN</td>\n",
       "      <td>NaN</td>\n",
       "      <td>NaN</td>\n",
       "      <td>NaN</td>\n",
       "    </tr>\n",
       "    <tr>\n",
       "      <th>1</th>\n",
       "      <td>NaN</td>\n",
       "      <td>NaN</td>\n",
       "      <td>NaN</td>\n",
       "      <td>NaN</td>\n",
       "      <td>NaN</td>\n",
       "      <td>NaN</td>\n",
       "      <td>NaN</td>\n",
       "      <td>NaN</td>\n",
       "      <td>NaN</td>\n",
       "      <td>NaN</td>\n",
       "      <td>...</td>\n",
       "      <td>NaN</td>\n",
       "      <td>NaN</td>\n",
       "      <td>NaN</td>\n",
       "      <td>NaN</td>\n",
       "      <td>NaN</td>\n",
       "      <td>NaN</td>\n",
       "      <td>NaN</td>\n",
       "      <td>NaN</td>\n",
       "      <td>NaN</td>\n",
       "      <td>NaN</td>\n",
       "    </tr>\n",
       "    <tr>\n",
       "      <th>2</th>\n",
       "      <td>NaN</td>\n",
       "      <td>NaN</td>\n",
       "      <td>NaN</td>\n",
       "      <td>NaN</td>\n",
       "      <td>NaN</td>\n",
       "      <td>NaN</td>\n",
       "      <td>NaN</td>\n",
       "      <td>NaN</td>\n",
       "      <td>NaN</td>\n",
       "      <td>NaN</td>\n",
       "      <td>...</td>\n",
       "      <td>NaN</td>\n",
       "      <td>NaN</td>\n",
       "      <td>NaN</td>\n",
       "      <td>NaN</td>\n",
       "      <td>NaN</td>\n",
       "      <td>NaN</td>\n",
       "      <td>NaN</td>\n",
       "      <td>NaN</td>\n",
       "      <td>NaN</td>\n",
       "      <td>NaN</td>\n",
       "    </tr>\n",
       "    <tr>\n",
       "      <th>3</th>\n",
       "      <td>NaN</td>\n",
       "      <td>NaN</td>\n",
       "      <td>NaN</td>\n",
       "      <td>NaN</td>\n",
       "      <td>NaN</td>\n",
       "      <td>NaN</td>\n",
       "      <td>NaN</td>\n",
       "      <td>NaN</td>\n",
       "      <td>NaN</td>\n",
       "      <td>NaN</td>\n",
       "      <td>...</td>\n",
       "      <td>NaN</td>\n",
       "      <td>NaN</td>\n",
       "      <td>NaN</td>\n",
       "      <td>NaN</td>\n",
       "      <td>NaN</td>\n",
       "      <td>NaN</td>\n",
       "      <td>NaN</td>\n",
       "      <td>NaN</td>\n",
       "      <td>NaN</td>\n",
       "      <td>NaN</td>\n",
       "    </tr>\n",
       "    <tr>\n",
       "      <th>4</th>\n",
       "      <td>NaN</td>\n",
       "      <td>NaN</td>\n",
       "      <td>NaN</td>\n",
       "      <td>NaN</td>\n",
       "      <td>NaN</td>\n",
       "      <td>NaN</td>\n",
       "      <td>NaN</td>\n",
       "      <td>NaN</td>\n",
       "      <td>NaN</td>\n",
       "      <td>NaN</td>\n",
       "      <td>...</td>\n",
       "      <td>NaN</td>\n",
       "      <td>NaN</td>\n",
       "      <td>NaN</td>\n",
       "      <td>NaN</td>\n",
       "      <td>NaN</td>\n",
       "      <td>NaN</td>\n",
       "      <td>NaN</td>\n",
       "      <td>NaN</td>\n",
       "      <td>NaN</td>\n",
       "      <td>NaN</td>\n",
       "    </tr>\n",
       "    <tr>\n",
       "      <th>...</th>\n",
       "      <td>...</td>\n",
       "      <td>...</td>\n",
       "      <td>...</td>\n",
       "      <td>...</td>\n",
       "      <td>...</td>\n",
       "      <td>...</td>\n",
       "      <td>...</td>\n",
       "      <td>...</td>\n",
       "      <td>...</td>\n",
       "      <td>...</td>\n",
       "      <td>...</td>\n",
       "      <td>...</td>\n",
       "      <td>...</td>\n",
       "      <td>...</td>\n",
       "      <td>...</td>\n",
       "      <td>...</td>\n",
       "      <td>...</td>\n",
       "      <td>...</td>\n",
       "      <td>...</td>\n",
       "      <td>...</td>\n",
       "      <td>...</td>\n",
       "    </tr>\n",
       "    <tr>\n",
       "      <th>1000</th>\n",
       "      <td>NaN</td>\n",
       "      <td>NaN</td>\n",
       "      <td>NaN</td>\n",
       "      <td>NaN</td>\n",
       "      <td>NaN</td>\n",
       "      <td>NaN</td>\n",
       "      <td>NaN</td>\n",
       "      <td>NaN</td>\n",
       "      <td>NaN</td>\n",
       "      <td>NaN</td>\n",
       "      <td>...</td>\n",
       "      <td>NaN</td>\n",
       "      <td>NaN</td>\n",
       "      <td>NaN</td>\n",
       "      <td>NaN</td>\n",
       "      <td>NaN</td>\n",
       "      <td>NaN</td>\n",
       "      <td>NaN</td>\n",
       "      <td>NaN</td>\n",
       "      <td>NaN</td>\n",
       "      <td>NaN</td>\n",
       "    </tr>\n",
       "    <tr>\n",
       "      <th>1001</th>\n",
       "      <td>NaN</td>\n",
       "      <td>NaN</td>\n",
       "      <td>NaN</td>\n",
       "      <td>NaN</td>\n",
       "      <td>NaN</td>\n",
       "      <td>NaN</td>\n",
       "      <td>NaN</td>\n",
       "      <td>NaN</td>\n",
       "      <td>NaN</td>\n",
       "      <td>NaN</td>\n",
       "      <td>...</td>\n",
       "      <td>NaN</td>\n",
       "      <td>NaN</td>\n",
       "      <td>NaN</td>\n",
       "      <td>NaN</td>\n",
       "      <td>NaN</td>\n",
       "      <td>NaN</td>\n",
       "      <td>NaN</td>\n",
       "      <td>NaN</td>\n",
       "      <td>NaN</td>\n",
       "      <td>NaN</td>\n",
       "    </tr>\n",
       "    <tr>\n",
       "      <th>1002</th>\n",
       "      <td>NaN</td>\n",
       "      <td>NaN</td>\n",
       "      <td>NaN</td>\n",
       "      <td>NaN</td>\n",
       "      <td>NaN</td>\n",
       "      <td>NaN</td>\n",
       "      <td>NaN</td>\n",
       "      <td>NaN</td>\n",
       "      <td>NaN</td>\n",
       "      <td>NaN</td>\n",
       "      <td>...</td>\n",
       "      <td>NaN</td>\n",
       "      <td>NaN</td>\n",
       "      <td>NaN</td>\n",
       "      <td>NaN</td>\n",
       "      <td>NaN</td>\n",
       "      <td>NaN</td>\n",
       "      <td>NaN</td>\n",
       "      <td>NaN</td>\n",
       "      <td>NaN</td>\n",
       "      <td>NaN</td>\n",
       "    </tr>\n",
       "    <tr>\n",
       "      <th>1003</th>\n",
       "      <td>NaN</td>\n",
       "      <td>NaN</td>\n",
       "      <td>NaN</td>\n",
       "      <td>NaN</td>\n",
       "      <td>NaN</td>\n",
       "      <td>NaN</td>\n",
       "      <td>NaN</td>\n",
       "      <td>NaN</td>\n",
       "      <td>NaN</td>\n",
       "      <td>NaN</td>\n",
       "      <td>...</td>\n",
       "      <td>NaN</td>\n",
       "      <td>NaN</td>\n",
       "      <td>NaN</td>\n",
       "      <td>NaN</td>\n",
       "      <td>NaN</td>\n",
       "      <td>NaN</td>\n",
       "      <td>NaN</td>\n",
       "      <td>NaN</td>\n",
       "      <td>NaN</td>\n",
       "      <td>NaN</td>\n",
       "    </tr>\n",
       "    <tr>\n",
       "      <th>1004</th>\n",
       "      <td>0.974978</td>\n",
       "      <td>1.661905</td>\n",
       "      <td>2.27741</td>\n",
       "      <td>1.907658</td>\n",
       "      <td>2.244394</td>\n",
       "      <td>1.638807</td>\n",
       "      <td>1.02642</td>\n",
       "      <td>0.873027</td>\n",
       "      <td>0.855384</td>\n",
       "      <td>0.82493</td>\n",
       "      <td>...</td>\n",
       "      <td>0.843025</td>\n",
       "      <td>0.842366</td>\n",
       "      <td>0.841738</td>\n",
       "      <td>0.841132</td>\n",
       "      <td>0.840534</td>\n",
       "      <td>0.839929</td>\n",
       "      <td>0.839308</td>\n",
       "      <td>0.838669</td>\n",
       "      <td>0.838017</td>\n",
       "      <td>0.837362</td>\n",
       "    </tr>\n",
       "  </tbody>\n",
       "</table>\n",
       "<p>1005 rows × 252 columns</p>\n",
       "</div>"
      ],
      "text/plain": [
       "         h.001     h.002    h.003     h.004     h.005     h.006    h.007  \\\n",
       "0          NaN       NaN      NaN       NaN       NaN       NaN      NaN   \n",
       "1          NaN       NaN      NaN       NaN       NaN       NaN      NaN   \n",
       "2          NaN       NaN      NaN       NaN       NaN       NaN      NaN   \n",
       "3          NaN       NaN      NaN       NaN       NaN       NaN      NaN   \n",
       "4          NaN       NaN      NaN       NaN       NaN       NaN      NaN   \n",
       "...        ...       ...      ...       ...       ...       ...      ...   \n",
       "1000       NaN       NaN      NaN       NaN       NaN       NaN      NaN   \n",
       "1001       NaN       NaN      NaN       NaN       NaN       NaN      NaN   \n",
       "1002       NaN       NaN      NaN       NaN       NaN       NaN      NaN   \n",
       "1003       NaN       NaN      NaN       NaN       NaN       NaN      NaN   \n",
       "1004  0.974978  1.661905  2.27741  1.907658  2.244394  1.638807  1.02642   \n",
       "\n",
       "         h.008     h.009    h.010  ...     h.243     h.244     h.245  \\\n",
       "0          NaN       NaN      NaN  ...       NaN       NaN       NaN   \n",
       "1          NaN       NaN      NaN  ...       NaN       NaN       NaN   \n",
       "2          NaN       NaN      NaN  ...       NaN       NaN       NaN   \n",
       "3          NaN       NaN      NaN  ...       NaN       NaN       NaN   \n",
       "4          NaN       NaN      NaN  ...       NaN       NaN       NaN   \n",
       "...        ...       ...      ...  ...       ...       ...       ...   \n",
       "1000       NaN       NaN      NaN  ...       NaN       NaN       NaN   \n",
       "1001       NaN       NaN      NaN  ...       NaN       NaN       NaN   \n",
       "1002       NaN       NaN      NaN  ...       NaN       NaN       NaN   \n",
       "1003       NaN       NaN      NaN  ...       NaN       NaN       NaN   \n",
       "1004  0.873027  0.855384  0.82493  ...  0.843025  0.842366  0.841738   \n",
       "\n",
       "         h.246     h.247     h.248     h.249     h.250     h.251     h.252  \n",
       "0          NaN       NaN       NaN       NaN       NaN       NaN       NaN  \n",
       "1          NaN       NaN       NaN       NaN       NaN       NaN       NaN  \n",
       "2          NaN       NaN       NaN       NaN       NaN       NaN       NaN  \n",
       "3          NaN       NaN       NaN       NaN       NaN       NaN       NaN  \n",
       "4          NaN       NaN       NaN       NaN       NaN       NaN       NaN  \n",
       "...        ...       ...       ...       ...       ...       ...       ...  \n",
       "1000       NaN       NaN       NaN       NaN       NaN       NaN       NaN  \n",
       "1001       NaN       NaN       NaN       NaN       NaN       NaN       NaN  \n",
       "1002       NaN       NaN       NaN       NaN       NaN       NaN       NaN  \n",
       "1003       NaN       NaN       NaN       NaN       NaN       NaN       NaN  \n",
       "1004  0.841132  0.840534  0.839929  0.839308  0.838669  0.838017  0.837362  \n",
       "\n",
       "[1005 rows x 252 columns]"
      ]
     },
     "execution_count": 140,
     "metadata": {},
     "output_type": "execute_result"
    }
   ],
   "source": [
    "predict.variance"
   ]
  }
 ],
 "metadata": {
  "kernelspec": {
   "display_name": "Python 3",
   "language": "python",
   "name": "python3"
  },
  "language_info": {
   "codemirror_mode": {
    "name": "ipython",
    "version": 3
   },
   "file_extension": ".py",
   "mimetype": "text/x-python",
   "name": "python",
   "nbconvert_exporter": "python",
   "pygments_lexer": "ipython3",
   "version": "3.7.7"
  }
 },
 "nbformat": 4,
 "nbformat_minor": 4
}
